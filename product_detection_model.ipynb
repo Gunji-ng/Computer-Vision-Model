{
 "cells": [
  {
   "cell_type": "code",
   "execution_count": 1,
   "metadata": {
    "executionInfo": {
     "elapsed": 1513,
     "status": "ok",
     "timestamp": 1626545496614,
     "user": {
      "displayName": "Damilola Egunjobi",
      "photoUrl": "",
      "userId": "04788411531026237659"
     },
     "user_tz": -60
    },
    "id": "wLAvf69L7Ixy"
   },
   "outputs": [],
   "source": [
    "import numpy as np\n",
    "import pandas as pd\n",
    "import tensorflow as tf\n",
    "from tensorflow.keras import Sequential\n",
    "from tensorflow.keras.layers import Dense, Flatten, Dropout\n",
    "from tensorflow.keras.layers import Conv2D, MaxPooling2D\n",
    "from tensorflow.keras.preprocessing.image import ImageDataGenerator\n",
    "import tensorflow_hub as hub\n",
    "import os\n",
    "import matplotlib.pyplot as plt\n",
    "import glob\n",
    "\n",
    "%matplotlib inline"
   ]
  },
  {
   "cell_type": "code",
   "execution_count": 2,
   "metadata": {
    "colab": {
     "base_uri": "https://localhost:8080/"
    },
    "executionInfo": {
     "elapsed": 44,
     "status": "ok",
     "timestamp": 1626545496631,
     "user": {
      "displayName": "Damilola Egunjobi",
      "photoUrl": "",
      "userId": "04788411531026237659"
     },
     "user_tz": -60
    },
    "id": "f9fDfCwVPJJJ",
    "outputId": "d276cfb7-f96d-4a97-a061-a6ffb4f97250"
   },
   "outputs": [
    {
     "name": "stdout",
     "output_type": "stream",
     "text": [
      "Found 310 images belonging to 5 classes.\n"
     ]
    }
   ],
   "source": [
    "batch_size = 1\n",
    "\n",
    "image_gen_train = ImageDataGenerator(rescale=1./255, \n",
    "                                     rotation_range=15, \n",
    "                                     width_shift_range=.15, \n",
    "                                     height_shift_range=.15, \n",
    "                                     horizontal_flip=True, \n",
    "                                     vertical_flip=True,\n",
    "                                     zoom_range=0.2\n",
    "                                    )\n",
    "\n",
    "\n",
    "train_data_gen = image_gen_train.flow_from_directory(directory='./products_images/train',\n",
    "                                                     class_mode='categorical', \n",
    "                                                     target_size=(256,256),\n",
    "                                                     batch_size=batch_size)"
   ]
  },
  {
   "cell_type": "code",
   "execution_count": 3,
   "metadata": {
    "colab": {
     "base_uri": "https://localhost:8080/"
    },
    "executionInfo": {
     "elapsed": 43,
     "status": "ok",
     "timestamp": 1626545496633,
     "user": {
      "displayName": "Damilola Egunjobi",
      "photoUrl": "",
      "userId": "04788411531026237659"
     },
     "user_tz": -60
    },
    "id": "xuJF3Ek5ctoF",
    "outputId": "2126ab80-4526-4bd3-f74f-4a2f3aa4c2b8"
   },
   "outputs": [
    {
     "data": {
      "text/plain": [
       "{'iphone12_pro_max': 0,\n",
       " 'jbl_charge3': 1,\n",
       " 'nintendo_switch': 2,\n",
       " 'ps4_controller': 3,\n",
       " 'yeezy_boost_350': 4}"
      ]
     },
     "execution_count": 3,
     "metadata": {},
     "output_type": "execute_result"
    }
   ],
   "source": [
    "train_data_gen.class_indices"
   ]
  },
  {
   "cell_type": "code",
   "execution_count": 4,
   "metadata": {
    "colab": {
     "base_uri": "https://localhost:8080/"
    },
    "executionInfo": {
     "elapsed": 38,
     "status": "ok",
     "timestamp": 1626545496634,
     "user": {
      "displayName": "Damilola Egunjobi",
      "photoUrl": "",
      "userId": "04788411531026237659"
     },
     "user_tz": -60
    },
    "id": "E-rI1S6kb28D",
    "outputId": "506bb419-e0bf-4c75-84c2-1f5a44823bf8"
   },
   "outputs": [
    {
     "name": "stdout",
     "output_type": "stream",
     "text": [
      "Found 113 images belonging to 5 classes.\n"
     ]
    }
   ],
   "source": [
    "image_gen_val = ImageDataGenerator(rescale=1./255)\n",
    "\n",
    "val_data_gen = image_gen_val.flow_from_directory(directory='./products_images/validate', \n",
    "                                                   class_mode='categorical', \n",
    "                                                   target_size=(256,256),\n",
    "                                                   batch_size=batch_size)"
   ]
  },
  {
   "cell_type": "code",
   "execution_count": 5,
   "metadata": {
    "colab": {
     "base_uri": "https://localhost:8080/"
    },
    "executionInfo": {
     "elapsed": 34,
     "status": "ok",
     "timestamp": 1626545496636,
     "user": {
      "displayName": "Damilola Egunjobi",
      "photoUrl": "",
      "userId": "04788411531026237659"
     },
     "user_tz": -60
    },
    "id": "Hq6R1NiylAKF",
    "outputId": "e6f56842-f9c0-4f98-80df-ec1b731a5c7c"
   },
   "outputs": [
    {
     "data": {
      "text/plain": [
       "{'iphone12_pro_max': 0,\n",
       " 'jbl_charge3': 1,\n",
       " 'nintendo_switch': 2,\n",
       " 'ps4_controller': 3,\n",
       " 'yeezy_boost_350': 4}"
      ]
     },
     "execution_count": 5,
     "metadata": {},
     "output_type": "execute_result"
    }
   ],
   "source": [
    "val_data_gen.class_indices"
   ]
  },
  {
   "cell_type": "code",
   "execution_count": 6,
   "metadata": {
    "executionInfo": {
     "elapsed": 5281,
     "status": "ok",
     "timestamp": 1626545501889,
     "user": {
      "displayName": "Damilola Egunjobi",
      "photoUrl": "",
      "userId": "04788411531026237659"
     },
     "user_tz": -60
    },
    "id": "vAMwUw39cbpM"
   },
   "outputs": [
    {
     "name": "stdout",
     "output_type": "stream",
     "text": [
      "WARNING:tensorflow:`input_shape` is undefined or non-square, or `rows` is not in [96, 128, 160, 192, 224]. Weights for input shape (224, 224) will be loaded as the default.\n"
     ]
    }
   ],
   "source": [
    "transfer_learning_layer = tf.keras.applications.MobileNetV2(include_top=False, \n",
    "                                                      weights='imagenet', \n",
    "                                                      input_shape=(256,256,3)\n",
    "                                                     )"
   ]
  },
  {
   "cell_type": "code",
   "execution_count": 7,
   "metadata": {
    "executionInfo": {
     "elapsed": 40,
     "status": "ok",
     "timestamp": 1626545501919,
     "user": {
      "displayName": "Damilola Egunjobi",
      "photoUrl": "",
      "userId": "04788411531026237659"
     },
     "user_tz": -60
    },
    "id": "l3fsVSLecmWo"
   },
   "outputs": [],
   "source": [
    "transfer_learning_layer.trainable = False"
   ]
  },
  {
   "cell_type": "code",
   "execution_count": 8,
   "metadata": {
    "executionInfo": {
     "elapsed": 1409,
     "status": "ok",
     "timestamp": 1626545503292,
     "user": {
      "displayName": "Damilola Egunjobi",
      "photoUrl": "",
      "userId": "04788411531026237659"
     },
     "user_tz": -60
    },
    "id": "50P-oWzGcpR2"
   },
   "outputs": [],
   "source": [
    "model = Sequential([\n",
    "    transfer_learning_layer,\n",
    "    Dropout(0.2),\n",
    "    Flatten(),\n",
    "    Dense(5, activation='softmax')\n",
    "])"
   ]
  },
  {
   "cell_type": "code",
   "execution_count": 9,
   "metadata": {
    "executionInfo": {
     "elapsed": 11,
     "status": "ok",
     "timestamp": 1626545503299,
     "user": {
      "displayName": "Damilola Egunjobi",
      "photoUrl": "",
      "userId": "04788411531026237659"
     },
     "user_tz": -60
    },
    "id": "dxCaXwIgczP1"
   },
   "outputs": [],
   "source": [
    "model.compile(optimizer='Adam', \n",
    "              loss='categorical_crossentropy', \n",
    "              metrics=['accuracy']\n",
    "             )"
   ]
  },
  {
   "cell_type": "code",
   "execution_count": 10,
   "metadata": {
    "colab": {
     "base_uri": "https://localhost:8080/"
    },
    "executionInfo": {
     "elapsed": 77257,
     "status": "ok",
     "timestamp": 1626545580547,
     "user": {
      "displayName": "Damilola Egunjobi",
      "photoUrl": "",
      "userId": "04788411531026237659"
     },
     "user_tz": -60
    },
    "id": "27IFAI4Ijdxs",
    "outputId": "c8da60c0-a271-4ce0-95c2-d107f232b094"
   },
   "outputs": [
    {
     "name": "stdout",
     "output_type": "stream",
     "text": [
      "Epoch 1/4\n",
      "310/310 [==============================] - 23s 73ms/step - loss: 6.7870 - accuracy: 0.6871 - val_loss: 3.7665 - val_accuracy: 0.8584\n",
      "Epoch 2/4\n",
      "310/310 [==============================] - 22s 70ms/step - loss: 3.8050 - accuracy: 0.8806 - val_loss: 1.7038 - val_accuracy: 0.9558\n",
      "Epoch 3/4\n",
      "310/310 [==============================] - 22s 69ms/step - loss: 4.6176 - accuracy: 0.8581 - val_loss: 0.6452 - val_accuracy: 0.9381\n",
      "Epoch 4/4\n",
      "310/310 [==============================] - 22s 70ms/step - loss: 2.7806 - accuracy: 0.9258 - val_loss: 0.8788 - val_accuracy: 0.9646\n"
     ]
    }
   ],
   "source": [
    "epochs = 4\n",
    "history = model.fit(train_data_gen, \n",
    "                    epochs=epochs, \n",
    "                    validation_data=val_data_gen)"
   ]
  },
  {
   "cell_type": "code",
   "execution_count": 11,
   "metadata": {
    "colab": {
     "base_uri": "https://localhost:8080/"
    },
    "executionInfo": {
     "elapsed": 95335,
     "status": "ok",
     "timestamp": 1626546286465,
     "user": {
      "displayName": "Damilola Egunjobi",
      "photoUrl": "",
      "userId": "04788411531026237659"
     },
     "user_tz": -60
    },
    "id": "GRp2mS2kjgxZ",
    "outputId": "1ac73779-f13f-410a-eaea-c95ea3a906e4"
   },
   "outputs": [
    {
     "name": "stdout",
     "output_type": "stream",
     "text": [
      "WARNING:tensorflow:From C:\\Users\\Gunji\\anaconda3\\lib\\site-packages\\tensorflow\\python\\training\\tracking\\tracking.py:111: Model.state_updates (from tensorflow.python.keras.engine.training) is deprecated and will be removed in a future version.\n",
      "Instructions for updating:\n",
      "This property should not be used in TensorFlow 2.0, as updates are applied automatically.\n",
      "WARNING:tensorflow:From C:\\Users\\Gunji\\anaconda3\\lib\\site-packages\\tensorflow\\python\\training\\tracking\\tracking.py:111: Layer.updates (from tensorflow.python.keras.engine.base_layer) is deprecated and will be removed in a future version.\n",
      "Instructions for updating:\n",
      "This property should not be used in TensorFlow 2.0, as updates are applied automatically.\n",
      "INFO:tensorflow:Assets written to: ../extracted_product_detection_model\\assets\n"
     ]
    }
   ],
   "source": [
    "model.save('./extracted_product_detection_model')"
   ]
  },
  {
   "cell_type": "code",
   "execution_count": null,
   "metadata": {
    "id": "igxK8FO7tTjH"
   },
   "outputs": [],
   "source": []
  },
  {
   "cell_type": "code",
   "execution_count": 12,
   "metadata": {},
   "outputs": [
    {
     "name": "stdout",
     "output_type": "stream",
     "text": [
      "Found 6 images belonging to 5 classes.\n"
     ]
    }
   ],
   "source": [
    "image_gen_test = ImageDataGenerator(rescale=1./255)\n",
    "\n",
    "ps4_controller_test_data_gen = image_gen_test.flow_from_directory(directory='./products_images/test', \n",
    "                                                   class_mode='categorical', \n",
    "                                                   target_size=(256,256),\n",
    "                                                   batch_size=batch_size)"
   ]
  },
  {
   "cell_type": "code",
   "execution_count": 13,
   "metadata": {},
   "outputs": [],
   "source": [
    "test_pred = model.predict(ps4_controller_test_data_gen)"
   ]
  },
  {
   "cell_type": "code",
   "execution_count": 14,
   "metadata": {},
   "outputs": [
    {
     "data": {
      "text/plain": [
       "array([[0, 0, 0, 1, 0],\n",
       "       [0, 0, 0, 1, 0],\n",
       "       [0, 0, 0, 1, 0],\n",
       "       [0, 0, 0, 1, 0],\n",
       "       [0, 0, 0, 1, 0],\n",
       "       [0, 0, 0, 1, 0]])"
      ]
     },
     "execution_count": 14,
     "metadata": {},
     "output_type": "execute_result"
    }
   ],
   "source": [
    "test_pred_bool = (test_pred > 0.5)\n",
    "test_predictions = test_pred_bool.astype(int)\n",
    "test_predictions"
   ]
  },
  {
   "cell_type": "code",
   "execution_count": null,
   "metadata": {},
   "outputs": [],
   "source": []
  }
 ],
 "metadata": {
  "accelerator": "GPU",
  "colab": {
   "name": "product_detection_model.ipynb",
   "provenance": []
  },
  "kernelspec": {
   "display_name": "Python 3",
   "language": "python",
   "name": "python3"
  },
  "language_info": {
   "codemirror_mode": {
    "name": "ipython",
    "version": 3
   },
   "file_extension": ".py",
   "mimetype": "text/x-python",
   "name": "python",
   "nbconvert_exporter": "python",
   "pygments_lexer": "ipython3",
   "version": "3.8.8"
  }
 },
 "nbformat": 4,
 "nbformat_minor": 1
}
