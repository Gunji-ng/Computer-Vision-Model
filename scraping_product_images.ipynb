{
 "cells": [
  {
   "cell_type": "code",
   "execution_count": 1,
   "metadata": {},
   "outputs": [],
   "source": [
    "import requests\n",
    "from bs4 import BeautifulSoup\n",
    "from selenium import webdriver\n",
    "from selenium.webdriver.common.keys import Keys\n",
    "import time\n",
    "from io import BytesIO\n",
    "from PIL import Image\n",
    "import os"
   ]
  },
  {
   "cell_type": "code",
   "execution_count": 2,
   "metadata": {},
   "outputs": [],
   "source": [
    "product_pages = {'ps4_controller':'https://www.shutterstock.com/search/ps4+controller?mreleased=false&image_type=photo',\n",
    "                 'iphone12_pro_max':'https://www.shutterstock.com/search/iphone+12+pro+max?mreleased=false&image_type=photo',\n",
    "                 'jbl_charge3':'https://www.shutterstock.com/search/jbl+charge+3?mreleased=false&image_type=photo',\n",
    "                 'yeezy_boost_350':'https://www.shutterstock.com/search/yeezy+boost+350?mreleased=false&image_type=photo',\n",
    "                 'nintendo_switch':'https://www.shutterstock.com/search/nintendo+switch?mreleased=false&image_type=photo'}\n",
    "products_folder = 'products_images'"
   ]
  },
  {
   "cell_type": "code",
   "execution_count": 3,
   "metadata": {},
   "outputs": [],
   "source": [
    "def get_imgs_links(page_source):\n",
    "    links_to_imgs = []\n",
    "    \n",
    "#    headers = {'user-agent':'Mozilla/5.0'}\n",
    "#    r = requests.get(url, headers=headers)\n",
    "    soup = BeautifulSoup(page_source, 'html.parser')\n",
    "    \n",
    "    for i in range(100):\n",
    "        try:\n",
    "            img_div = soup.find('div', attrs={'data-automation':f'mosaic-grid-cell-{i}'})\n",
    "            item_img = img_div.a.img\n",
    "            img_link = item_img.get('src')\n",
    "            links_to_imgs.append(img_link)\n",
    "        except:\n",
    "            continue\n",
    "    return links_to_imgs"
   ]
  },
  {
   "cell_type": "code",
   "execution_count": 4,
   "metadata": {},
   "outputs": [],
   "source": [
    "for product, url in product_pages.items():\n",
    "    \n",
    "    #initializing a selenium session\n",
    "    browser = webdriver.Firefox()\n",
    "    browser.implicitly_wait(5)\n",
    "    #opening our target url with our selenium session\n",
    "    browser.get(url)\n",
    "    time.sleep(10)\n",
    "    html = browser.find_element_by_tag_name('html')\n",
    "    for i in range(5):\n",
    "        html.send_keys(Keys.PAGE_DOWN)\n",
    "        time.sleep(5)\n",
    "    html.send_keys(Keys.END)\n",
    "    time.sleep(5)\n",
    "    \n",
    "    img_links = get_imgs_links(browser.page_source)\n",
    "    \n",
    "    browser.close()\n",
    "    \n",
    "    if not os.path.exists(products_folder+'/'+product):\n",
    "        os.makedirs(products_folder+'/'+product)\n",
    "    \n",
    "    index = 0\n",
    "    for img_link in img_links:\n",
    "        img_response = requests.get(img_link)\n",
    "        img = Image.open(BytesIO(img_response.content))\n",
    "        img.save(products_folder + '/' + product +'/' + product + '_' + str(index) + '.jpg')\n",
    "        index += 1"
   ]
  },
  {
   "cell_type": "code",
   "execution_count": null,
   "metadata": {},
   "outputs": [],
   "source": []
  }
 ],
 "metadata": {
  "kernelspec": {
   "display_name": "Python 3",
   "language": "python",
   "name": "python3"
  },
  "language_info": {
   "codemirror_mode": {
    "name": "ipython",
    "version": 3
   },
   "file_extension": ".py",
   "mimetype": "text/x-python",
   "name": "python",
   "nbconvert_exporter": "python",
   "pygments_lexer": "ipython3",
   "version": "3.7.7"
  }
 },
 "nbformat": 4,
 "nbformat_minor": 4
}
